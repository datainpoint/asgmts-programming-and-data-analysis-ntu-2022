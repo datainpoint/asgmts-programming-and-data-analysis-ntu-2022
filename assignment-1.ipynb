{
 "cells": [
  {
   "cell_type": "markdown",
   "metadata": {
    "deletable": false,
    "editable": false
   },
   "source": [
    "# Programming and Data Analysis\n",
    "\n",
    "> Assignment 1\n",
    "\n",
    "Kuo, Yao-Jen <yaojenkuo@ntu.edu.tw> from [DATAINPOINT](https://www.datainpoint.com)"
   ]
  },
  {
   "cell_type": "code",
   "execution_count": null,
   "metadata": {},
   "outputs": [],
   "source": [
    "import unittest"
   ]
  },
  {
   "cell_type": "markdown",
   "metadata": {
    "deletable": false
   },
   "source": [
    "## Instructions\n",
    "\n",
    "- We've imported necessary modules at the top of each assignment.\n",
    "- We've defined the names of functions/inputs/parameters for you.\n",
    "- Save a copy in your own Google Drive before getting started.\n",
    "- Write down your solution between the comments `### BEGIN SOLUTION` and `### END SOLUTION`.\n",
    "- It is NECESSARY to `return` the answer, tests will fail by just printing out the answer.\n",
    "- You can run tests after each question or after finishing all questions.\n",
    "- Running tests to see if your solutions are right:\n",
    "    - File -> Save.\n",
    "    - Runtime -> Restart and run all.\n",
    "- When you are ready to submit, click File -> Download -> Download `.py`.\n",
    "- Upload to the Assignment session on NTU COOL.\n",
    "\n",
    "![](https://i.imgur.com/ZKt6QNJ.png)"
   ]
  },
  {
   "cell_type": "markdown",
   "metadata": {},
   "source": [
    "## 01. Define a function named `calculate_movie_minutes(hours, mins)` which returns the time of a movie in minutes from hours and minutes."
   ]
  },
  {
   "cell_type": "code",
   "execution_count": null,
   "metadata": {},
   "outputs": [],
   "source": [
    "def calculate_movie_minutes(hours: int, mins: int) -> int:\n",
    "    \"\"\"\n",
    "    >>> calculate_movie_minutes(2, 22) # The Shawshank Redemption\n",
    "    142\n",
    "    >>> calculate_movie_minutes(2, 55) # The Godfather\n",
    "    175\n",
    "    >>> calculate_movie_minutes(2, 32) # The Dark Knight\n",
    "    152\n",
    "    \"\"\"\n",
    "    ### BEGIN SOLUTION\n",
    "    \n",
    "    ### END SOLUTION"
   ]
  },
  {
   "cell_type": "markdown",
   "metadata": {},
   "source": [
    "## 02. Define a function named `convert_kilometer_to_mile(km)` which converts kilometers to miles of a given distance in kilometers.\n",
    "\n",
    "\\begin{equation}\n",
    "1 \\; \\text{km} = 0.621371192 \\; \\text{mile}\n",
    "\\end{equation}"
   ]
  },
  {
   "cell_type": "code",
   "execution_count": null,
   "metadata": {},
   "outputs": [],
   "source": [
    "def convert_kilometer_to_mile(km: float) -> float:\n",
    "    \"\"\"\n",
    "    >>> convert_kilometer_to_mile(42.195) # a full marathon\n",
    "    26.21875744644\n",
    "    >>> convert_kilometer_to_mile(21.095) # a half marathon\n",
    "    13.10782529524\n",
    "    \"\"\"\n",
    "    ### BEGIN SOLUTION\n",
    "    \n",
    "    ### END SOLUTION"
   ]
  },
  {
   "cell_type": "markdown",
   "metadata": {},
   "source": [
    "## 03. Define a function named `convert_fahrenheit_to_celsius(x)` which converts Fahrenheit degrees to Celsius degrees.\n",
    "\n",
    "\\begin{equation}\n",
    "Celsius^{\\circ} C = (Fahrenheit^{\\circ} F - 32) \\times \\frac{5}{9}\n",
    "\\end{equation}\n",
    "\n",
    "- Expected inputs: a numeric `x`.\n",
    "- Expected outputs: a numeric."
   ]
  },
  {
   "cell_type": "code",
   "execution_count": null,
   "metadata": {},
   "outputs": [],
   "source": [
    "def convert_fahrenheit_to_celsius(x):\n",
    "    \"\"\"\n",
    "    >>> convert_fahrenheit_to_celsius(212)\n",
    "    100.0\n",
    "    >>> convert_fahrenheit_to_celsius(32)\n",
    "    0.0\n",
    "    \"\"\"\n",
    "    ### BEGIN SOLUTION\n",
    "    \n",
    "    ### END SOLUTION"
   ]
  },
  {
   "cell_type": "markdown",
   "metadata": {},
   "source": [
    "## 04. Define a function named `calculate_bmi(height, weight)` which calculates BMI according to heights in centimeters and weights in kilograms.\n",
    "\n",
    "\\begin{equation}\n",
    "BMI = \\frac{weight_{kg}}{height_{m}^2}\n",
    "\\end{equation}"
   ]
  },
  {
   "cell_type": "code",
   "execution_count": null,
   "metadata": {},
   "outputs": [],
   "source": [
    "def calculate_bmi(height: int, weight: int) -> float:\n",
    "    \"\"\"\n",
    "    >>> calculate_bmi(216, 147) # Shaquille O'Neal in his prime\n",
    "    31.507201646090532\n",
    "    >>> calculate_bmi(206, 113) # LeBron James\n",
    "    26.628334433028563\n",
    "    >>> calculate_bmi(211, 110) # Giannis Antetokounmpo\n",
    "    24.70744143213315\n",
    "    \"\"\"\n",
    "    ### BEGIN SOLUTION\n",
    "    \n",
    "    ### END SOLUTION"
   ]
  },
  {
   "cell_type": "markdown",
   "metadata": {},
   "source": [
    "## 05. Define a function named `show_integer_with_commas(x)` which returns an integer in comma format. "
   ]
  },
  {
   "cell_type": "code",
   "execution_count": null,
   "metadata": {},
   "outputs": [],
   "source": [
    "def show_integer_with_commas(x):\n",
    "    \"\"\"\n",
    "    >>> show_integer_with_commas(1000)\n",
    "    '1,000'\n",
    "    >>> show_integer_with_commas(1000000)\n",
    "    '1,000,000'\n",
    "    >>> show_integer_with_commas(1000000000)\n",
    "    '1,000,000,000'\n",
    "    \"\"\"\n",
    "    ### BEGIN SOLUTION\n",
    "    \n",
    "    ### END SOLUTION"
   ]
  },
  {
   "cell_type": "markdown",
   "metadata": {},
   "source": [
    "## 06. Define a function named `show_big_mac_index(country, currency, price)` which returns the Big Mac Index given a country, its currency, and the price of a Big Mac. "
   ]
  },
  {
   "cell_type": "code",
   "execution_count": null,
   "metadata": {},
   "outputs": [],
   "source": [
    "def show_big_mac_index(country: str, currency: str, price: float) -> str:\n",
    "    \"\"\"\n",
    "    >>> show_big_mac_index('US', 'USD', 5.15)\n",
    "    A Big Mac costs 5.15 USD in US.\n",
    "    >>> show_big_mac_index('South Korea', 'Won', 4600)\n",
    "    A Big Mac costs 4,600.00 Won in South Korea.\n",
    "    >>> show_big_mac_index('Taiwan', 'NTD', 75)\n",
    "    A Big Mac costs 75.00 NTD in Taiwan.\n",
    "    \"\"\"\n",
    "    ### BEGIN SOLUTION\n",
    "    \n",
    "    ### END SOLUTION"
   ]
  },
  {
   "cell_type": "markdown",
   "metadata": {},
   "source": [
    "## 07. Define a function named `is_positive(x)` which returns whether `x` is positive or not."
   ]
  },
  {
   "cell_type": "code",
   "execution_count": null,
   "metadata": {},
   "outputs": [],
   "source": [
    "def is_positive(x: int):\n",
    "    \"\"\"\n",
    "    >>> is_positive(-1)\n",
    "    False\n",
    "    >>> is_positive(0)\n",
    "    False\n",
    "    >>> is_positive(1)\n",
    "    True\n",
    "    \"\"\"\n",
    "    ### BEGIN SOLUTION\n",
    "    \n",
    "    ### END SOLUTION"
   ]
  },
  {
   "cell_type": "markdown",
   "metadata": {},
   "source": [
    "## 08. Define a function named `is_a_divisor(x, y)` which returns whether `x` is a divisor of `y` or not."
   ]
  },
  {
   "cell_type": "code",
   "execution_count": null,
   "metadata": {},
   "outputs": [],
   "source": [
    "def is_a_divisor(x: int, y: int) -> bool:\n",
    "    \"\"\"\n",
    "    >>> is_a_divisor(1, 3)\n",
    "    True\n",
    "    >>> is_a_divisor(2, 3)\n",
    "    False\n",
    "    >>> is_a_divisor(3, 3)\n",
    "    True\n",
    "    >>> is_a_divisor(1, 4)\n",
    "    True\n",
    "    >>> is_a_divisor(2, 4)\n",
    "    True\n",
    "    >>> is_a_divisor(3, 4)\n",
    "    False\n",
    "    >>> is_a_divisor(4, 4)\n",
    "    True\n",
    "    \"\"\"\n",
    "    ### BEGIN SOLUTION\n",
    "    \n",
    "    ### END SOLUTION"
   ]
  },
  {
   "cell_type": "markdown",
   "metadata": {},
   "source": [
    "## 09. Define a function named `are_vowels_contained(x)` which returns whether x contains one of the vowels: a, e, i, o, u."
   ]
  },
  {
   "cell_type": "code",
   "execution_count": null,
   "metadata": {},
   "outputs": [],
   "source": [
    "def are_vowels_contained(x: str) -> bool:\n",
    "    \"\"\"\n",
    "    >>> are_vowels_contained('pythn')\n",
    "    False\n",
    "    >>> are_vowels_contained('ncnd')\n",
    "    False\n",
    "    >>> are_vowels_contained('rtclt')\n",
    "    False\n",
    "    >>> are_vowels_contained('python')\n",
    "    True\n",
    "    >>> are_vowels_contained('anaconda')\n",
    "    True\n",
    "    >>> are_vowels_contained('reticulate')\n",
    "    True\n",
    "    \"\"\"\n",
    "    ### BEGIN SOLUTION\n",
    "    \n",
    "    ### END SOLUTION"
   ]
  },
  {
   "cell_type": "markdown",
   "metadata": {},
   "source": [
    "## 10. Define a function named `are_all_vowels_contained(x)` which returns whether x contains all of the vowels: a, e, i, o, u."
   ]
  },
  {
   "cell_type": "code",
   "execution_count": null,
   "metadata": {},
   "outputs": [],
   "source": [
    "def are_all_vowels_contained(x: str) -> bool:\n",
    "    \"\"\"\n",
    "    >>> are_all_vowels_contained('python')\n",
    "    False\n",
    "    >>> are_all_vowels_contained('anaconda')\n",
    "    False\n",
    "    >>> are_all_vowels_contained('reticulate')\n",
    "    False\n",
    "    >>> are_all_vowels_contained('anaconda and reticulate')\n",
    "    True\n",
    "    \"\"\"\n",
    "    ### BEGIN SOLUTION\n",
    "    \n",
    "    ### END SOLUTION"
   ]
  },
  {
   "cell_type": "markdown",
   "metadata": {},
   "source": [
    "## Running tests\n",
    "\n",
    "Assignment session is finished, click Runtime -> Restart and run all to run the following tests."
   ]
  },
  {
   "cell_type": "code",
   "execution_count": null,
   "metadata": {},
   "outputs": [],
   "source": [
    "class TestAssignmentOne(unittest.TestCase):\n",
    "    def test_01_calculate_movie_minutes(self):\n",
    "        self.assertEqual(calculate_movie_minutes(2, 22), 142)\n",
    "        self.assertEqual(calculate_movie_minutes(2, 55), 175)\n",
    "        self.assertEqual(calculate_movie_minutes(2, 32), 152)\n",
    "    def test_02_convert_kilometer_to_mile(self):\n",
    "        self.assertTrue(convert_kilometer_to_mile(42.195) > 26)\n",
    "        self.assertTrue(convert_kilometer_to_mile(21.095) > 13)\n",
    "    def test_03_convert_fahrenheit_to_celsius(self):\n",
    "        self.assertTrue(convert_fahrenheit_to_celsius(212) > 99)\n",
    "        self.assertTrue(convert_fahrenheit_to_celsius(212) < 101)\n",
    "        self.assertTrue(convert_fahrenheit_to_celsius(32) > -1)\n",
    "        self.assertTrue(convert_fahrenheit_to_celsius(32) < 1)\n",
    "    def test_04_calculate_bmi(self):\n",
    "        self.assertTrue(calculate_bmi(216, 147) > 31)\n",
    "        self.assertTrue(calculate_bmi(216, 147) < 32)\n",
    "        self.assertTrue(calculate_bmi(206, 113) > 26)\n",
    "        self.assertTrue(calculate_bmi(206, 113) < 27)\n",
    "        self.assertTrue(calculate_bmi(211, 110) > 24)\n",
    "        self.assertTrue(calculate_bmi(211, 110) < 25)\n",
    "        self.assertTrue(convert_fahrenheit_to_celsius(212) < 101)\n",
    "        self.assertTrue(convert_fahrenheit_to_celsius(32) > -1)\n",
    "        self.assertTrue(convert_fahrenheit_to_celsius(32) < 1)\n",
    "    def test_05_show_integer_with_commas(self):\n",
    "        self.assertEqual(show_integer_with_commas(1000), \"1,000\")\n",
    "        self.assertEqual(show_integer_with_commas(1000000), \"1,000,000\")\n",
    "        self.assertEqual(show_integer_with_commas(1000000000), \"1,000,000,000\")\n",
    "    def test_06_show_big_mac_index(self):\n",
    "        self.assertEqual(show_big_mac_index('US', 'USD', 5.15), \"A Big Mac costs 5.15 USD in US.\")\n",
    "        self.assertEqual(show_big_mac_index('South Korea', 'Won', 4600), \"A Big Mac costs 4,600.00 Won in South Korea.\")\n",
    "        self.assertEqual(show_big_mac_index('Taiwan', 'NTD', 75), \"A Big Mac costs 75.00 NTD in Taiwan.\")\n",
    "    def test_07_is_positive(self):\n",
    "        self.assertFalse(is_positive(-1))\n",
    "        self.assertFalse(is_positive(0))\n",
    "        self.assertTrue(is_positive(1))\n",
    "    def test_08_is_a_divisor(self):\n",
    "        self.assertTrue(is_a_divisor(1, 3))\n",
    "        self.assertFalse(is_a_divisor(2, 3))\n",
    "        self.assertTrue(is_a_divisor(3, 3))\n",
    "        self.assertTrue(is_a_divisor(1, 4))\n",
    "        self.assertTrue(is_a_divisor(2, 4))\n",
    "        self.assertFalse(is_a_divisor(3, 4))\n",
    "        self.assertTrue(is_a_divisor(4, 4))\n",
    "    def test_09_are_vowels_contained(self):\n",
    "        self.assertFalse(are_vowels_contained('pythn'))\n",
    "        self.assertFalse(are_vowels_contained('ncnd'))\n",
    "        self.assertFalse(are_vowels_contained('rtclt'))\n",
    "        self.assertTrue(are_vowels_contained('python'))\n",
    "        self.assertTrue(are_vowels_contained('anaconda'))\n",
    "        self.assertTrue(are_vowels_contained('reticulate'))\n",
    "    def test_10_are_all_vowels_contained(self):\n",
    "        self.assertFalse(are_all_vowels_contained('python'))\n",
    "        self.assertFalse(are_all_vowels_contained('anaconda'))\n",
    "        self.assertFalse(are_all_vowels_contained('reticulate'))\n",
    "        self.assertTrue(are_all_vowels_contained('anaconda and reticulate'))\n",
    "\n",
    "suite = unittest.TestLoader().loadTestsFromTestCase(TestAssignmentOne)\n",
    "runner = unittest.TextTestRunner(verbosity=2)\n",
    "if __name__ == '__main__':\n",
    "    test_results = runner.run(suite)\n",
    "number_of_failures = len(test_results.failures)\n",
    "number_of_errors = len(test_results.errors)\n",
    "number_of_test_runs = test_results.testsRun\n",
    "number_of_successes = number_of_test_runs - (number_of_failures + number_of_errors)\n",
    "print(\"You've got {} successes among {} questions.\".format(number_of_successes, number_of_test_runs))"
   ]
  }
 ],
 "metadata": {
  "celltoolbar": "Edit Metadata",
  "kernelspec": {
   "display_name": "Python 3 (ipykernel)",
   "language": "python",
   "name": "python3"
  },
  "language_info": {
   "codemirror_mode": {
    "name": "ipython",
    "version": 3
   },
   "file_extension": ".py",
   "mimetype": "text/x-python",
   "name": "python",
   "nbconvert_exporter": "python",
   "pygments_lexer": "ipython3",
   "version": "3.9.5"
  }
 },
 "nbformat": 4,
 "nbformat_minor": 4
}
