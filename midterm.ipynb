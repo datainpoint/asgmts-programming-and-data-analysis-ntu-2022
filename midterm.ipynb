{
 "cells": [
  {
   "cell_type": "markdown",
   "metadata": {
    "deletable": false,
    "editable": false
   },
   "source": [
    "# Programming and Data Analysis\n",
    "\n",
    "> Midterm\n",
    "\n",
    "Kuo, Yao-Jen <yaojenkuo@ntu.edu.tw> from [DATAINPOINT](https://www.datainpoint.com)"
   ]
  },
  {
   "cell_type": "code",
   "execution_count": null,
   "metadata": {
    "deletable": false
   },
   "outputs": [],
   "source": [
    "import unittest\n",
    "import json\n",
    "import requests"
   ]
  },
  {
   "cell_type": "markdown",
   "metadata": {
    "deletable": false
   },
   "source": [
    "## Instructions\n",
    "\n",
    "- We've imported necessary modules at the top of each assignment.\n",
    "- We've defined the names of functions/inputs/parameters for you.\n",
    "- Save a copy in your own Google Drive before getting started.\n",
    "    - File -> Save a copy in Drive.\n",
    "- Write down your solution between the comments `### BEGIN SOLUTION` and `### END SOLUTION`.\n",
    "- It is NECESSARY to `return` the answer, tests will fail by just printing out the answer.\n",
    "- You can run tests after each question or after finishing all questions.\n",
    "- Running tests to see if your solutions are right:\n",
    "    - File -> Save.\n",
    "    - Runtime -> Restart and run all.\n",
    "- When you are ready to submit, click File -> Download -> Download `.py`.\n",
    "- DON'Ts\n",
    "    - DON'T use `input()` function in your assignments.\n",
    "    - DON'T use Safari browser to export Colab as Python script.\n",
    "    - DON'T nest your solution in another `def` function code block. \n",
    "- Upload to the Assignment session on NTU COOL.\n",
    "\n",
    "![](https://i.imgur.com/ZKt6QNJ.png)"
   ]
  },
  {
   "cell_type": "markdown",
   "metadata": {},
   "source": [
    "## 01. Define a function named `return_days_abbreviation()` which returns weekday/weekend abbreviations given its full name.\n",
    "\n",
    "```python\n",
    "days_of_week = [\"Sunday\", \"Monday\", \"Tuesday\", \"Wednesday\", \"Thursday\", \"Friday\", \"Saturday\"]\n",
    "```"
   ]
  },
  {
   "cell_type": "code",
   "execution_count": null,
   "metadata": {},
   "outputs": [],
   "source": [
    "def return_days_abbreviation(x: str) -> str:\n",
    "    \"\"\"\n",
    "    >>> return_days_abbreviation(\"Sunday\")\n",
    "    'Sun.'\n",
    "    >>> return_days_abbreviation(\"Monday\")\n",
    "    'Mon.'\n",
    "    >>> return_days_abbreviation(\"Tuesday\")\n",
    "    'Tue.'\n",
    "    \"\"\"\n",
    "    ### BEGIN SOLUTION\n",
    "    \n",
    "    ### END SOLUTION"
   ]
  },
  {
   "cell_type": "markdown",
   "metadata": {},
   "source": [
    "## 02. Define a function named `return_months_abbreviation_fullname()` which returns the abbreviation and full name of month given its integer order.\n",
    "\n",
    "```python\n",
    "months = [\"January\", \"February\", \"March\", \"April\", \"May\", \"June\", \"July\", \"August\", \"September\", \"October\", \"November\", \"December\"]\n",
    "```"
   ]
  },
  {
   "cell_type": "code",
   "execution_count": null,
   "metadata": {},
   "outputs": [],
   "source": [
    "def return_months_abbreviation_fullname(x: int) -> tuple:\n",
    "    \"\"\"\n",
    "    >>> return_months_abbreviation_fullname(1)\n",
    "    ('Jan', 'January')\n",
    "    >>> return_months_abbreviation_fullname(2)\n",
    "    ('Feb', 'February')\n",
    "    >>> return_months_abbreviation_fullname(12)\n",
    "    ('Dec', 'December')\n",
    "    \"\"\"\n",
    "    ### BEGIN SOLUTION\n",
    "    \n",
    "    ### END SOLUTION"
   ]
  },
  {
   "cell_type": "markdown",
   "metadata": {},
   "source": [
    "## 03. Define a function named `filter_primes_in_range()` which returns prime numbers within `range(a, b + 1)`, where `a < b`."
   ]
  },
  {
   "cell_type": "code",
   "execution_count": null,
   "metadata": {},
   "outputs": [],
   "source": [
    "def filter_primes_in_range(a: int, b: int) -> list:\n",
    "    \"\"\"\n",
    "    >>> filter_primes_in_range(1, 5)\n",
    "    [2, 3, 5]\n",
    "    >>> filter_primes_in_range(6, 15)\n",
    "    [7, 11, 13]\n",
    "    >>> filter_primes_in_range(16, 25)\n",
    "    [17, 19, 23]\n",
    "    >>> filter_primes_in_range(31, 40)\n",
    "    [31, 37]\n",
    "    \"\"\"\n",
    "    ### BEGIN SOLUTION\n",
    "    \n",
    "    ### END SOLUTION"
   ]
  },
  {
   "cell_type": "markdown",
   "metadata": {},
   "source": [
    "## 04. Define a function named `find_min_max()` which finds the minimum and maximum values given flexible arguments `*args`."
   ]
  },
  {
   "cell_type": "code",
   "execution_count": null,
   "metadata": {},
   "outputs": [],
   "source": [
    "def find_min_max(*args) -> dict:\n",
    "    \"\"\"\n",
    "    >>> find_min_max(2, 3, 5, 7, 11)\n",
    "    {'min': 2, 'max': 11}\n",
    "    >>> find_min_max(13, 17, 19, 23, 29, 31)\n",
    "    {'min': 13, 'max': 31}\n",
    "    >>> find_min_max(10, 9, 8, 6, 4, 1)\n",
    "    {'min': 1, 'max': 10}\n",
    "    \"\"\"\n",
    "    ### BEGIN SOLUTION\n",
    "    \n",
    "    ### END SOLUTION"
   ]
  },
  {
   "cell_type": "markdown",
   "metadata": {},
   "source": [
    "## 05. Define a function named `find_idxmin_idxmax()` which finds the indices of minimum and maximum values, respectively given flexible arguments `*args`."
   ]
  },
  {
   "cell_type": "code",
   "execution_count": null,
   "metadata": {},
   "outputs": [],
   "source": [
    "def find_idxmin_idxmax(*args) -> dict:\n",
    "    \"\"\"\n",
    "    >>> find_idxmin_idxmax(2, 3, 5, 7, 11)\n",
    "    {'idxmin': [0], 'idxmax': [4]}\n",
    "    >>> find_idxmin_idxmax(2, 3, 5, 7, 11, 11, 7, 5, 3, 2)\n",
    "    {'idxmin': [0, 9], 'idxmax': [4, 5]}\n",
    "    >>> find_idxmin_idxmax(10, 9, 8, 6, 4, 1)\n",
    "    {'idxmin': [5], 'idxmax': [0]}\n",
    "    >>> find_idxmin_idxmax(10, 9, 8, 6, 4, 1, 1, 4, 6, 8, 9, 10)\n",
    "    {'idxmin': [5, 6], 'idxmax': [0, 11]}\n",
    "    \"\"\"\n",
    "    ### BEGIN SOLUTION\n",
    "    \n",
    "    ### END SOLUTION"
   ]
  },
  {
   "cell_type": "markdown",
   "metadata": {},
   "source": [
    "## 06. Define a function named `pig_latin()` which plays the Pig Latin language game with user's inputs.\n",
    "\n",
    "- For words that begin with consonant sounds, all letters before the initial vowel are placed at the end of the word sequence. Then, \"ay\" is added. e.g. \"pig\" -> \"igpay\". When words begin with consonant clusters (multiple consonants that form one sound), the whole sound is added to the end. e.g. \"smile\" -> \"ilesmay\"\n",
    "- For words that begin with vowel sounds, the vowel is left alone, and \"yay\" is added to the end. e.g. \"eat\" -> \"eatyay\"\n",
    "\n",
    "Source: <https://en.wikipedia.org/wiki/Pig_Latin>"
   ]
  },
  {
   "cell_type": "code",
   "execution_count": null,
   "metadata": {},
   "outputs": [],
   "source": [
    "def pig_latin(x: str) -> str:\n",
    "    \"\"\"\n",
    "    >>> pig_latin(\"pig\")\n",
    "    'igpay'\n",
    "    >>> pig_latin(\"smile\")\n",
    "    'ilesmay'\n",
    "    >>> pig_latin(\"eat\")\n",
    "    'eatyay'\n",
    "    \"\"\"\n",
    "    ### BEGIN SOLUTION\n",
    "    \n",
    "    ### END SOLUTION"
   ]
  },
  {
   "cell_type": "markdown",
   "metadata": {},
   "source": [
    "## In the following exercises, you will need a few files to complete the functions. Run the cell below to download those files at your working directory."
   ]
  },
  {
   "cell_type": "code",
   "execution_count": null,
   "metadata": {},
   "outputs": [],
   "source": [
    "import requests\n",
    "\n",
    "file_names = [\"zip_codes.json\", \"countries.json\"]\n",
    "for file_name in file_names:\n",
    "    file_url = f\"https://raw.githubusercontent.com/datainpoint/asgmts-programming-and-data-analysis-ntu-2022/main/{file_name}\"\n",
    "    r = requests.get(file_url)\n",
    "    with open(file_name , 'wb') as f:\n",
    "        f.write(r.content)"
   ]
  },
  {
   "cell_type": "markdown",
   "metadata": {},
   "source": [
    "## 07. Define a function named `import_zip_codes_json()` which imports the `zip_codes.json` as a `list` in working directory."
   ]
  },
  {
   "cell_type": "code",
   "execution_count": null,
   "metadata": {},
   "outputs": [],
   "source": [
    "def import_zip_codes_json() -> list:\n",
    "    \"\"\"\n",
    "    >>> zip_codes_json = import_zip_codes_json()\n",
    "    >>> type(zip_codes_json)\n",
    "    list\n",
    "    >>> len(zip_codes_json)\n",
    "    378\n",
    "    \"\"\"\n",
    "    ### BEGIN SOLUTION\n",
    "    \n",
    "    ### END SOLUTION"
   ]
  },
  {
   "cell_type": "markdown",
   "metadata": {},
   "source": [
    "## 08. Define a function named `lookup_zip_codes` which returns the 3-digit zip code given the name of county and town in Taiwan, based on `zip_codes.json` in working directory."
   ]
  },
  {
   "cell_type": "code",
   "execution_count": null,
   "metadata": {},
   "outputs": [],
   "source": [
    "def lookup_zip_codes(county: str, town: str) -> str:\n",
    "    \"\"\"\n",
    "    >>> lookup_zip_codes(\"臺北市\", \"中正區\")\n",
    "    '100'\n",
    "    >>> lookup_zip_codes(\"基隆市\", \"中正區\")\n",
    "    '202'\n",
    "    >>> lookup_zip_codes(\"臺北市\", \"中山區\")\n",
    "    '104'\n",
    "    >>> lookup_zip_codes(\"基隆市\", \"中山區\")\n",
    "    '203'\n",
    "    >>> lookup_zip_codes(\"臺北市\", \"大安區\")\n",
    "    '106'\n",
    "    >>> lookup_zip_codes(\"臺中市\", \"大安區\")\n",
    "    '439'\n",
    "    \"\"\"\n",
    "    ### BEGIN SOLUTION\n",
    "    \n",
    "    ### END SOLUTION"
   ]
  },
  {
   "cell_type": "markdown",
   "metadata": {},
   "source": [
    "## 09. Define a function named `import_countries_json` which imports the `countries.json` as a list in working directory."
   ]
  },
  {
   "cell_type": "code",
   "execution_count": null,
   "metadata": {},
   "outputs": [],
   "source": [
    "def import_countries_json() -> list:\n",
    "    \"\"\"\n",
    "    >>> countries_json = import_countries_json()\n",
    "    >>> type(countries_json)\n",
    "    list\n",
    "    >>> len(countries_json)\n",
    "    249\n",
    "    \"\"\"\n",
    "    ### BEGIN SOLUTION\n",
    "    \n",
    "    ### END SOLUTION"
   ]
  },
  {
   "cell_type": "markdown",
   "metadata": {},
   "source": [
    "## 10. Define a function named `lookup_country_iso_codes` which returns the 2-digit and 3-digit ISO country code given the name of country, based on `countries.json` in working directory."
   ]
  },
  {
   "cell_type": "code",
   "execution_count": null,
   "metadata": {},
   "outputs": [],
   "source": [
    "def lookup_country_iso_codes(country: str) -> tuple:\n",
    "    \"\"\"\n",
    "    >>> lookup_country_iso_codes(\"Taiwan\")\n",
    "    ('TW', 'TWN')\n",
    "    >>> lookup_country_iso_codes(\"Japan\")\n",
    "    ('JP', 'JPN')\n",
    "    >>> lookup_country_iso_codes(\"Lithuania\")\n",
    "    ('LT', 'LTU')\n",
    "    >>> lookup_country_iso_codes(\"Slovenia\")\n",
    "    ('SI', 'SVN')\n",
    "    \"\"\"\n",
    "    ### BEGIN SOLUTION\n",
    "    \n",
    "    ### END SOLUTION"
   ]
  },
  {
   "cell_type": "markdown",
   "metadata": {},
   "source": [
    "## Running tests\n",
    "\n",
    "Assignment session is finished, click Runtime -> Restart and run all to run the following tests."
   ]
  },
  {
   "cell_type": "code",
   "execution_count": null,
   "metadata": {},
   "outputs": [],
   "source": [
    "class TestMidterm(unittest.TestCase):\n",
    "    def test_01_return_days_abbreviation(self):\n",
    "        self.assertEqual(return_days_abbreviation(\"Sunday\"), 'Sun.')\n",
    "        self.assertEqual(return_days_abbreviation(\"Monday\"), 'Mon.')\n",
    "        self.assertEqual(return_days_abbreviation(\"Tuesday\"), 'Tue.')\n",
    "        self.assertEqual(return_days_abbreviation(\"Wednesday\"), 'Wed.')\n",
    "        self.assertEqual(return_days_abbreviation(\"Thursday\"), 'Thu.')\n",
    "        self.assertEqual(return_days_abbreviation(\"Friday\"), 'Fri.')\n",
    "        self.assertEqual(return_days_abbreviation(\"Saturday\"), 'Sat.')\n",
    "    def test_02_return_months_abbreviation_fullname(self):\n",
    "        self.assertEqual(return_months_abbreviation_fullname(1), ('Jan', 'January'))\n",
    "        self.assertEqual(return_months_abbreviation_fullname(2), ('Feb', 'February'))\n",
    "        self.assertEqual(return_months_abbreviation_fullname(3), ('Mar', 'March'))\n",
    "        self.assertEqual(return_months_abbreviation_fullname(11), ('Nov', 'November'))\n",
    "        self.assertEqual(return_months_abbreviation_fullname(12), ('Dec', 'December'))\n",
    "    def test_03_filter_primes_in_range(self):\n",
    "        self.assertEqual(filter_primes_in_range(1, 5), [2, 3, 5])\n",
    "        self.assertEqual(filter_primes_in_range(6, 15), [7, 11, 13])\n",
    "        self.assertEqual(filter_primes_in_range(16, 25), [17, 19, 23])\n",
    "        self.assertEqual(filter_primes_in_range(31, 40), [31, 37])\n",
    "    def test_04_find_min_max(self):\n",
    "        self.assertEqual(find_min_max(2, 3, 5, 7, 11), {'min': 2, 'max': 11})\n",
    "        self.assertEqual(find_min_max(13, 17, 19, 23, 29, 31), {'min': 13, 'max': 31})\n",
    "        self.assertEqual(find_min_max(10, 9, 8, 6, 4, 1), {'min': 1, 'max': 10})\n",
    "        self.assertEqual(find_min_max(2, 3, 5, 7, 11, 11, 7, 5, 3, 2), {'min': 2, 'max': 11})\n",
    "        self.assertEqual(find_min_max(10, 9, 8, 6, 4, 1, 1, 4, 6, 8, 9, 10), {'min': 1, 'max': 10})\n",
    "    def test_05_find_idxmin_idxmax(self):\n",
    "        ans = find_idxmin_idxmax(2, 3, 5, 7, 11)\n",
    "        self.assertEqual(ans[\"idxmin\"], [0])\n",
    "        self.assertEqual(ans[\"idxmax\"], [4])\n",
    "        ans = find_idxmin_idxmax(2, 3, 5, 7, 11, 11, 7, 5, 3, 2)\n",
    "        self.assertEqual(ans[\"idxmin\"], [0, 9])\n",
    "        self.assertEqual(ans[\"idxmax\"], [4, 5])\n",
    "        ans = find_idxmin_idxmax(10, 9, 8, 6, 4, 1)\n",
    "        self.assertEqual(ans[\"idxmin\"], [5])\n",
    "        self.assertEqual(ans[\"idxmax\"], [0])\n",
    "        ans = find_idxmin_idxmax(10, 9, 8, 6, 4, 1, 1, 4, 6, 8, 9, 10)\n",
    "        self.assertEqual(ans[\"idxmin\"], [5, 6])\n",
    "        self.assertEqual(ans[\"idxmax\"], [0, 11])\n",
    "    def test_06_pig_latin(self):\n",
    "        self.assertEqual(pig_latin(\"pig\"), 'igpay')\n",
    "        self.assertEqual(pig_latin(\"smile\"), 'ilesmay')\n",
    "        self.assertEqual(pig_latin(\"eat\"), 'eatyay')\n",
    "        self.assertEqual(pig_latin(\"banana\"), 'ananabay')\n",
    "        self.assertEqual(pig_latin(\"string\"), 'ingstray')\n",
    "        self.assertEqual(pig_latin(\"omelet\"), 'omeletyay')\n",
    "    def test_07_import_zip_codes_json(self):\n",
    "        zip_codes_json = import_zip_codes_json()\n",
    "        self.assertIsInstance(zip_codes_json, list)\n",
    "        self.assertEqual(len(zip_codes_json), 378)\n",
    "    def test_08_lookup_zip_codes(self):\n",
    "        self.assertEqual(lookup_zip_codes(\"臺北市\", \"中正區\"), '100')\n",
    "        self.assertEqual(lookup_zip_codes(\"基隆市\", \"中正區\"), '202')\n",
    "        self.assertEqual(lookup_zip_codes(\"臺北市\", \"中山區\"), '104')\n",
    "        self.assertEqual(lookup_zip_codes(\"基隆市\", \"中山區\"), '203')\n",
    "        self.assertEqual(lookup_zip_codes(\"臺北市\", \"大安區\"), '106')\n",
    "        self.assertEqual(lookup_zip_codes(\"臺中市\", \"大安區\"), '439')\n",
    "        self.assertEqual(lookup_zip_codes(\"臺北市\", \"內湖區\"), '114')\n",
    "    def test_09_import_countries_json(self):\n",
    "        countries_json = import_countries_json()\n",
    "        self.assertIsInstance(countries_json, list)\n",
    "        self.assertEqual(len(countries_json), 249)\n",
    "    def test_10_lookup_country_iso_codes(self):\n",
    "        self.assertEqual(lookup_country_iso_codes(\"Taiwan\"), ('TW', 'TWN'))\n",
    "        self.assertEqual(lookup_country_iso_codes(\"Japan\"), ('JP', 'JPN'))\n",
    "        self.assertEqual(lookup_country_iso_codes(\"Lithuania\"),  ('LT', 'LTU'))\n",
    "        self.assertEqual(lookup_country_iso_codes(\"Slovenia\"), ('SI', 'SVN'))\n",
    "        self.assertEqual(lookup_country_iso_codes(\"Czechia\"),  ('CZ', 'CZE'))\n",
    "        self.assertEqual(lookup_country_iso_codes(\"United States of America (the)\"), ('US', 'USA'))\n",
    "\n",
    "suite = unittest.TestLoader().loadTestsFromTestCase(TestMidterm)\n",
    "runner = unittest.TextTestRunner(verbosity=2)\n",
    "test_results = runner.run(suite)\n",
    "number_of_failures = len(test_results.failures)\n",
    "number_of_errors = len(test_results.errors)\n",
    "number_of_test_runs = test_results.testsRun\n",
    "number_of_successes = number_of_test_runs - (number_of_failures + number_of_errors)"
   ]
  },
  {
   "cell_type": "code",
   "execution_count": null,
   "metadata": {},
   "outputs": [],
   "source": [
    "print(\"You've got {} successes among {} questions.\".format(number_of_successes, number_of_test_runs))\n",
    "print(\"You will get {} points in the exam.\".format(number_of_successes * 2))"
   ]
  }
 ],
 "metadata": {
  "kernelspec": {
   "display_name": "Python 3 (ipykernel)",
   "language": "python",
   "name": "python3"
  },
  "language_info": {
   "codemirror_mode": {
    "name": "ipython",
    "version": 3
   },
   "file_extension": ".py",
   "mimetype": "text/x-python",
   "name": "python",
   "nbconvert_exporter": "python",
   "pygments_lexer": "ipython3",
   "version": "3.9.12"
  }
 },
 "nbformat": 4,
 "nbformat_minor": 4
}
