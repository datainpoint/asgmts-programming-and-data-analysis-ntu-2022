{
 "cells": [
  {
   "cell_type": "markdown",
   "metadata": {
    "deletable": false,
    "editable": false
   },
   "source": [
    "# Programming and Data Analysis\n",
    "\n",
    "> Assignment 2\n",
    "\n",
    "Kuo, Yao-Jen <yaojenkuo@ntu.edu.tw> from [DATAINPOINT](https://www.datainpoint.com)"
   ]
  },
  {
   "cell_type": "code",
   "execution_count": null,
   "metadata": {},
   "outputs": [],
   "source": [
    "import unittest\n",
    "import string"
   ]
  },
  {
   "cell_type": "markdown",
   "metadata": {
    "deletable": false
   },
   "source": [
    "## Instructions\n",
    "\n",
    "- We've imported necessary modules at the top of each assignment.\n",
    "- We've defined the names of functions/inputs/parameters for you.\n",
    "- Save a copy in your own Google Drive before getting started.\n",
    "    - File -> Save a copy in Drive.\n",
    "- Write down your solution between the comments `### BEGIN SOLUTION` and `### END SOLUTION`.\n",
    "- It is NECESSARY to `return` the answer, tests will fail by just printing out the answer.\n",
    "- You can run tests after each question or after finishing all questions.\n",
    "- Running tests to see if your solutions are right:\n",
    "    - File -> Save.\n",
    "    - Runtime -> Restart and run all.\n",
    "- When you are ready to submit, click File -> Download -> Download `.py`.\n",
    "- DON'Ts\n",
    "    - DON'T use `input()` function in your assignments.\n",
    "    - DON'T use Safari browser to export Colab as Python script.\n",
    "- Upload to the Assignment session on NTU COOL.\n",
    "\n",
    "![](https://i.imgur.com/ZKt6QNJ.png)"
   ]
  },
  {
   "cell_type": "markdown",
   "metadata": {},
   "source": [
    "## 01. Define a function named `find_bmi_category()` which returns the category of BMI according to BMI.\n",
    "\n",
    "Source: <https://en.wikipedia.org/wiki/Body_mass_index#Categories>"
   ]
  },
  {
   "cell_type": "code",
   "execution_count": null,
   "metadata": {},
   "outputs": [],
   "source": [
    "def find_bmi_category(bmi: float) -> str:\n",
    "    \"\"\"\n",
    "    >>> find_bmi_category(32.90) # Zion Williamson, professional basketball player\n",
    "    'Class I Obese'\n",
    "    >>> find_bmi_category(26.63) # LeBron James, professional basketball player\n",
    "    'Pre-obese'\n",
    "    >>> find_bmi_category(24.83) # Roger Federer, professional tennis player\n",
    "    'Normal range'\n",
    "    >>> find_bmi_category(17.58) # Suguru Osako, professional marathon runner \n",
    "    'Mild thinness'\n",
    "    \"\"\"\n",
    "    ### BEGIN SOLUTION\n",
    "    \n",
    "    ### END SOLUTION"
   ]
  },
  {
   "cell_type": "markdown",
   "metadata": {},
   "source": [
    "## 02. Define a function named `convert_temperature_degrees_to_different_scales()` which converts temperature degrees between 3 different scales.\n",
    "\n",
    "\\begin{equation}\n",
    "\\text{Fahrenheit}(^{\\circ} F) = \\text{Celsius}(^{\\circ} C) \\times \\frac{9}{5} + 32 \\\\\n",
    "\\text{Celsius}(^{\\circ} C) = (\\text{Fahrenheit}(^{\\circ} F) - 32) \\times \\frac{5}{9} \\\\\n",
    "\\text{Kelvin}(K) = Celsius(^{\\circ} C) + 273.15\n",
    "\\end{equation}"
   ]
  },
  {
   "cell_type": "code",
   "execution_count": null,
   "metadata": {},
   "outputs": [],
   "source": [
    "def convert_temperature_degrees_to_different_scales(x: float, from_scale: str, to_scale: str) -> float:\n",
    "    \"\"\"\n",
    "    >>> convert_temperature_degrees_to_different_scales(0, \"Celsius\", \"Fahrenheit\")\n",
    "    32.0\n",
    "    >>> convert_temperature_degrees_to_different_scales(100, \"Celsius\", \"Fahrenheit\")\n",
    "    212.0\n",
    "    >>> convert_temperature_degrees_to_different_scales(32, \"Fahrenheit\", \"Celsius\")\n",
    "    0.0\n",
    "    >>> convert_temperature_degrees_to_different_scales(212, \"Fahrenheit\", \"Celsius\")\n",
    "    100.0\n",
    "    >>> convert_temperature_degrees_to_different_scales(0, \"Celsius\", \"Kelvin\")\n",
    "    273.15\n",
    "    >>> convert_temperature_degrees_to_different_scales(100, \"Celsius\", \"Kelvin\")\n",
    "    373.15\n",
    "    >>> convert_temperature_degrees_to_different_scales(32, \"Fahrenheit\", \"Kelvin\")\n",
    "    273.15\n",
    "    >>> convert_temperature_degrees_to_different_scales(212, \"Fahrenheit\", \"Kelvin\")\n",
    "    373.15\n",
    "    \"\"\"\n",
    "    ### BEGIN SOLUTION\n",
    "    \n",
    "    ### END SOLUTION"
   ]
  },
  {
   "cell_type": "markdown",
   "metadata": {},
   "source": [
    "## 03. Define a function named `get_alphabet_with_order()` which returns alphabets given its order."
   ]
  },
  {
   "cell_type": "code",
   "execution_count": null,
   "metadata": {},
   "outputs": [],
   "source": [
    "def get_alphabet_with_order(x: int, is_upper_cased: bool) -> str:\n",
    "    \"\"\"\n",
    "    >>> get_alphabet_with_order(1, False)\n",
    "    'a'\n",
    "    >>> get_alphabet_with_order(1, True)\n",
    "    'A'\n",
    "    >>> get_alphabet_with_order(26, False)\n",
    "    'z'\n",
    "    >>> get_alphabet_with_order(26, True)\n",
    "    'Z'\n",
    "    \"\"\"\n",
    "    ### BEGIN SOLUTION\n",
    "    \n",
    "    ### END SOLUTION"
   ]
  },
  {
   "cell_type": "markdown",
   "metadata": {},
   "source": [
    "## 04. Define a function named `sing_do_re_mi()` which returns the lyrics of \"Do-Re-Mi\".\n",
    "\n",
    "Source: <https://youtu.be/Qy9cj-zwbVY>"
   ]
  },
  {
   "cell_type": "code",
   "execution_count": null,
   "metadata": {},
   "outputs": [],
   "source": [
    "def sing_do_re_mi(note: str) ->str:\n",
    "    \"\"\"\n",
    "    >>> sing_do_re_mi(\"Do\")\n",
    "    'a deer, a female deer.'\n",
    "    >>> sing_do_re_mi(\"Re\")\n",
    "    'a drop of golden sun.'\n",
    "    >>> sing_do_re_mi(\"Mi\")\n",
    "    'a name I call myself.'\n",
    "    >>> sing_do_re_mi(\"Fa\")\n",
    "    'a long long way to run.'\n",
    "    >>> sing_do_re_mi(\"So\")\n",
    "    'a needle pulling thread.'\n",
    "    >>> sing_do_re_mi(\"La\")\n",
    "    'a note to follow so.'\n",
    "    >>> sing_do_re_mi(\"Ti\")\n",
    "    'a drink with jam and bread.'\n",
    "    \"\"\"\n",
    "    ### BEGIN SOLUTION\n",
    "    \n",
    "    ### END SOLUTION"
   ]
  },
  {
   "cell_type": "markdown",
   "metadata": {},
   "source": [
    "## 05. Define a function named `first_n_fizz_buzz()` which returns the first `n` FizzBuzz numbers as a `list`.\n",
    "\n",
    "Source: <https://en.wikipedia.org/wiki/Fizz_buzz>"
   ]
  },
  {
   "cell_type": "code",
   "execution_count": null,
   "metadata": {},
   "outputs": [],
   "source": [
    "def first_n_fizz_buzz(n: int) -> list:\n",
    "    \"\"\"\n",
    "    >>> first_n_fizz_buzz(4)\n",
    "    ['Fizz Buzz', 1, 2, 'Fizz']\n",
    "    >>> first_n_fizz_buzz(6)\n",
    "    ['Fizz Buzz', 1, 2, 'Fizz', 4, 'Buzz']\n",
    "    >>> first_n_fizz_buzz(16)\n",
    "    ['Fizz Buzz', 1, 2, 'Fizz', 4, 'Buzz', 'Fizz', 7, 8, 'Fizz', 'Buzz', 11, 'Fizz', 13, 14, 'Fizz Buzz']\n",
    "    \"\"\"\n",
    "    ### BEGIN SOLUTION\n",
    "    \n",
    "    ### END SOLUTION"
   ]
  },
  {
   "cell_type": "markdown",
   "metadata": {},
   "source": [
    "## 06. Define a function named `retrieve_the_middle_elements()` which returns the middle elements of a given `list`. "
   ]
  },
  {
   "cell_type": "code",
   "execution_count": null,
   "metadata": {},
   "outputs": [],
   "source": [
    "def retrieve_the_middle_elements(x: list):\n",
    "    \"\"\"\n",
    "    >>> retrieve_the_middle_elements([2, 3, 5])\n",
    "    3\n",
    "    >>> retrieve_the_middle_elements([2, 3, 5, 7])\n",
    "    (3, 5)\n",
    "    >>> retrieve_the_middle_elements([2, 3, 5, 7, 11])\n",
    "    5\n",
    "    >>> retrieve_the_middle_elements([2, 3, 5, 7, 11, 13])\n",
    "    (5, 7)\n",
    "    \"\"\"\n",
    "    ### BEGIN SOLUTION\n",
    "    \n",
    "    ### END SOLUTION"
   ]
  },
  {
   "cell_type": "markdown",
   "metadata": {},
   "source": [
    "## 07. Define a function named `median()` which returns the median value of a given list.\n",
    "\n",
    "Source: <https://en.wikipedia.org/wiki/Median>"
   ]
  },
  {
   "cell_type": "code",
   "execution_count": null,
   "metadata": {},
   "outputs": [],
   "source": [
    "def median(x: list) -> float:\n",
    "    \"\"\"\n",
    "    >>> median([2, 3, 5, 7, 11])\n",
    "    5\n",
    "    >>> median([2, 3, 5, 7, 11, 13])\n",
    "    6.0\n",
    "    >>> median([11, 13, 17, 2, 3, 5, 7])\n",
    "    7\n",
    "    >>> median([7, 11, 13, 17, 19, 2, 3, 5])\n",
    "    9.0\n",
    "    \"\"\"\n",
    "    ### BEGIN SOLUTION\n",
    "    \n",
    "    ### END SOLUTION"
   ]
  },
  {
   "cell_type": "markdown",
   "metadata": {},
   "source": [
    "## 08. Define a function named `collect_divisors()` which returns all positive divisors of a given `int`.\n",
    "\n",
    "Source: <https://en.wikipedia.org/wiki/Divisor>"
   ]
  },
  {
   "cell_type": "code",
   "execution_count": null,
   "metadata": {},
   "outputs": [],
   "source": [
    "def collect_divisors(x: int) -> list:\n",
    "    \"\"\"\n",
    "    >>> collect_divisors(1)\n",
    "    [1]\n",
    "    >>> collect_divisors(2)\n",
    "    [1, 2]\n",
    "    >>> collect_divisors(3)\n",
    "    [1, 3]\n",
    "    >>> collect_divisors(4)\n",
    "    [1, 2, 4]\n",
    "    >>> collect_divisors(5)\n",
    "    [1, 5]\n",
    "    \"\"\"\n",
    "    ### BEGIN SOLUTION\n",
    "    \n",
    "    ### END SOLUTION"
   ]
  },
  {
   "cell_type": "markdown",
   "metadata": {},
   "source": [
    "## 09. Define a function named `is_prime()` which returns whether `x` is a prime number or not. You may extend the previous `collect_divisors()` function to solve this problem.\n",
    "\n",
    "Source: <https://en.wikipedia.org/wiki/Prime_number>"
   ]
  },
  {
   "cell_type": "code",
   "execution_count": null,
   "metadata": {},
   "outputs": [],
   "source": [
    "def is_prime(x: int) -> bool:\n",
    "    \"\"\"\n",
    "    >>> is_prime(1)\n",
    "    False\n",
    "    >>> is_prime(2)\n",
    "    True\n",
    "    >>> is_prime(3)\n",
    "    True\n",
    "    >>> is_prime(4)\n",
    "    False\n",
    "    >>> is_prime(5)\n",
    "    True\n",
    "    \"\"\"\n",
    "    ### BEGIN SOLUTION\n",
    "    \n",
    "    ### END SOLUTION"
   ]
  },
  {
   "cell_type": "markdown",
   "metadata": {},
   "source": [
    "## 10. Define a function named `reverse_vowels()` converts the vowels in a word from upper-cased to lower-cased, and from lower-cased to upper-cased."
   ]
  },
  {
   "cell_type": "code",
   "execution_count": null,
   "metadata": {},
   "outputs": [],
   "source": [
    "def reverse_vowels(x: str) -> str:\n",
    "    \"\"\"\n",
    "    >>> reverse_vowels('Luke Skywalker')\n",
    "    'LUkE SkywAlkEr'\n",
    "    >>> reverse_vowels('Darth Vadar')\n",
    "    'DArth VAdAr'\n",
    "    >>> reverse_vowels('The Avengers')\n",
    "    'ThE avEngErs'\n",
    "    \"\"\"\n",
    "    ### BEGIN SOLUTION\n",
    "    \n",
    "    ### END SOLUTION"
   ]
  },
  {
   "cell_type": "markdown",
   "metadata": {},
   "source": [
    "## Running tests\n",
    "\n",
    "Assignment session is finished, click Runtime -> Restart and run all to run the following tests."
   ]
  },
  {
   "cell_type": "code",
   "execution_count": null,
   "metadata": {},
   "outputs": [],
   "source": [
    "class TestAssignmentTwo(unittest.TestCase):\n",
    "    def test_01_find_bmi_category(self):\n",
    "        self.assertEqual(find_bmi_category(32.90), \"Class I Obese\")\n",
    "        self.assertEqual(find_bmi_category(26.63), \"Pre-obese\")\n",
    "        self.assertEqual(find_bmi_category(24.83), \"Normal range\")\n",
    "        self.assertEqual(find_bmi_category(17.58), \"Mild thinness\")\n",
    "    def test_02_convert_kilometer_to_mile(self):\n",
    "        self.assertTrue(convert_temperature_degrees_to_different_scales(0, \"Celsius\", \"Fahrenheit\") >= 32)\n",
    "        self.assertTrue(convert_temperature_degrees_to_different_scales(100, \"Celsius\", \"Fahrenheit\") >= 212)\n",
    "        self.assertTrue(convert_temperature_degrees_to_different_scales(32, \"Fahrenheit\", \"Celsius\") >= 0)\n",
    "        self.assertTrue(convert_temperature_degrees_to_different_scales(212, \"Fahrenheit\", \"Celsius\") >= 100)\n",
    "        self.assertTrue(convert_temperature_degrees_to_different_scales(0, \"Celsius\", \"Kelvin\") >= 273)\n",
    "        self.assertTrue(convert_temperature_degrees_to_different_scales(100, \"Celsius\", \"Kelvin\") >= 373)\n",
    "        self.assertTrue(convert_temperature_degrees_to_different_scales(32, \"Fahrenheit\", \"Kelvin\") >= 273)\n",
    "        self.assertTrue(convert_temperature_degrees_to_different_scales(212, \"Fahrenheit\", \"Kelvin\") >= 373)\n",
    "    def test_03_get_alphabet_with_order(self):\n",
    "        self.assertEqual(get_alphabet_with_order(1, False), 'a')\n",
    "        self.assertEqual(get_alphabet_with_order(1, True), 'A')\n",
    "        self.assertEqual(get_alphabet_with_order(2, False), 'b')\n",
    "        self.assertEqual(get_alphabet_with_order(2, True), 'B')\n",
    "        self.assertEqual(get_alphabet_with_order(18, False), 'r')\n",
    "        self.assertEqual(get_alphabet_with_order(18, True), 'R')\n",
    "        self.assertEqual(get_alphabet_with_order(25, False), 'y')\n",
    "        self.assertEqual(get_alphabet_with_order(25, True), 'Y')\n",
    "        self.assertEqual(get_alphabet_with_order(26, False), 'z')\n",
    "        self.assertEqual(get_alphabet_with_order(26, True), 'Z')\n",
    "    def test_04_sing_do_re_mi(self):\n",
    "        self.assertEqual(sing_do_re_mi(\"Do\"), 'a deer, a female deer.')\n",
    "        self.assertEqual(sing_do_re_mi(\"Re\"), 'a drop of golden sun.')\n",
    "        self.assertEqual(sing_do_re_mi(\"Mi\"), 'a name I call myself.')\n",
    "        self.assertEqual(sing_do_re_mi(\"Fa\"), 'a long long way to run.')\n",
    "        self.assertEqual(sing_do_re_mi(\"So\"), 'a needle pulling thread.')\n",
    "        self.assertEqual(sing_do_re_mi(\"La\"), 'a note to follow so.')\n",
    "        self.assertEqual(sing_do_re_mi(\"Ti\"), 'a drink with jam and bread.')\n",
    "    def test_05_first_n_fizz_buzz(self):\n",
    "        self.assertEqual(first_n_fizz_buzz(1), ['Fizz Buzz'])\n",
    "        self.assertEqual(first_n_fizz_buzz(2), ['Fizz Buzz', 1])\n",
    "        self.assertEqual(first_n_fizz_buzz(4), ['Fizz Buzz', 1, 2, 'Fizz'])\n",
    "        self.assertEqual(first_n_fizz_buzz(6), ['Fizz Buzz', 1, 2, 'Fizz', 4, 'Buzz'])\n",
    "        self.assertEqual(first_n_fizz_buzz(16), ['Fizz Buzz', 1, 2, 'Fizz', 4, 'Buzz', 'Fizz', 7, 8, 'Fizz', 'Buzz', 11, 'Fizz', 13, 14, 'Fizz Buzz'])\n",
    "    def test_06_retrieve_the_middle_elements(self):\n",
    "        self.assertEqual(retrieve_the_middle_elements([2, 3, 5]), 3)\n",
    "        self.assertEqual(retrieve_the_middle_elements([2, 3, 5, 7]), (3, 5))\n",
    "        self.assertEqual(retrieve_the_middle_elements([2, 3, 5, 7, 11]), 5)\n",
    "        self.assertEqual(retrieve_the_middle_elements([2, 3, 5, 7, 11, 13]), (5, 7))\n",
    "    def test_07_median(self):\n",
    "        self.assertEqual(median([2, 3, 5, 7, 11]), 5)\n",
    "        self.assertEqual(median([2, 3, 5, 7, 11, 13]), 6.0)\n",
    "        self.assertEqual(median([11, 13, 17, 2, 3, 5, 7]), 7)\n",
    "        self.assertEqual(median([7, 11, 13, 17, 19, 2, 3, 5]), 9.0)\n",
    "    def test_08_collect_divisors(self):\n",
    "        self.assertEqual(collect_divisors(1), [1])\n",
    "        self.assertEqual(collect_divisors(2), [1, 2])\n",
    "        self.assertEqual(collect_divisors(3), [1, 3])\n",
    "        self.assertEqual(collect_divisors(4), [1, 2, 4])\n",
    "        self.assertEqual(collect_divisors(5), [1, 5])\n",
    "        self.assertEqual(collect_divisors(6), [1, 2, 3, 6])\n",
    "        self.assertEqual(collect_divisors(7), [1, 7])\n",
    "    def test_09_is_prime(self):\n",
    "        self.assertFalse(is_prime(1))\n",
    "        self.assertTrue(is_prime(2))\n",
    "        self.assertTrue(is_prime(3))\n",
    "        self.assertFalse(is_prime(4))\n",
    "        self.assertTrue(is_prime(5))\n",
    "        self.assertFalse(is_prime(6))\n",
    "        self.assertTrue(is_prime(7))\n",
    "    def test_10_reverse_vowels(self):\n",
    "        self.assertEqual(reverse_vowels('Luke Skywalker'), 'LUkE SkywAlkEr')\n",
    "        self.assertEqual(reverse_vowels('Darth Vadar'), 'DArth VAdAr')\n",
    "        self.assertEqual(reverse_vowels('The Avengers'), 'ThE avEngErs')\n",
    "        self.assertEqual(reverse_vowels('Python'), 'PythOn')\n",
    "        self.assertEqual(reverse_vowels('Anaconda'), 'anAcOndA')\n",
    "\n",
    "suite = unittest.TestLoader().loadTestsFromTestCase(TestAssignmentTwo)\n",
    "runner = unittest.TextTestRunner(verbosity=2)\n",
    "test_results = runner.run(suite)\n",
    "number_of_failures = len(test_results.failures)\n",
    "number_of_errors = len(test_results.errors)\n",
    "number_of_test_runs = test_results.testsRun\n",
    "number_of_successes = number_of_test_runs - (number_of_failures + number_of_errors)"
   ]
  },
  {
   "cell_type": "code",
   "execution_count": null,
   "metadata": {},
   "outputs": [],
   "source": [
    "print(\"You've got {} successes among {} questions.\".format(number_of_successes, number_of_test_runs))"
   ]
  }
 ],
 "metadata": {
  "celltoolbar": "Edit Metadata",
  "kernelspec": {
   "display_name": "Python 3.9",
   "language": "python",
   "name": "python39"
  },
  "language_info": {
   "codemirror_mode": {
    "name": "ipython",
    "version": 3
   },
   "file_extension": ".py",
   "mimetype": "text/x-python",
   "name": "python",
   "nbconvert_exporter": "python",
   "pygments_lexer": "ipython3",
   "version": "3.9.7"
  }
 },
 "nbformat": 4,
 "nbformat_minor": 4
}
