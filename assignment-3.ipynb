{
 "cells": [
  {
   "cell_type": "markdown",
   "metadata": {
    "deletable": false
   },
   "source": [
    "# Programming and Data Analysis\n",
    "\n",
    "> Assignment 3\n",
    "\n",
    "Kuo, Yao-Jen <yaojenkuo@ntu.edu.tw> from [DATAINPOINT](https://www.datainpoint.com)"
   ]
  },
  {
   "cell_type": "code",
   "execution_count": null,
   "metadata": {
    "deletable": false
   },
   "outputs": [],
   "source": [
    "import unittest\n",
    "import json\n",
    "import requests"
   ]
  },
  {
   "cell_type": "markdown",
   "metadata": {
    "deletable": false
   },
   "source": [
    "## Instructions\n",
    "\n",
    "- We've imported necessary modules at the top of each assignment.\n",
    "- We've defined the names of functions/inputs/parameters for you.\n",
    "- Save a copy in your own Google Drive before getting started.\n",
    "    - File -> Save a copy in Drive.\n",
    "- Write down your solution between the comments `### BEGIN SOLUTION` and `### END SOLUTION`.\n",
    "- It is NECESSARY to `return` the answer, tests will fail by just printing out the answer.\n",
    "- You can run tests after each question or after finishing all questions.\n",
    "- Running tests to see if your solutions are right:\n",
    "    - File -> Save.\n",
    "    - Runtime -> Restart and run all.\n",
    "- When you are ready to submit, click File -> Download -> Download `.py`.\n",
    "- DON'Ts\n",
    "    - DON'T use `input()` function in your assignments.\n",
    "    - DON'T use Safari browser to export Colab as Python script.\n",
    "    - DON'T nest your solution in another `def` function code block. \n",
    "- Upload to the Assignment session on NTU COOL.\n",
    "\n",
    "![](https://i.imgur.com/ZKt6QNJ.png)"
   ]
  },
  {
   "cell_type": "markdown",
   "metadata": {},
   "source": [
    "## 01. Define a function named `square_negatives_from_args()` which takes flexible integers and returns positive ones in a list."
   ]
  },
  {
   "cell_type": "code",
   "execution_count": null,
   "metadata": {},
   "outputs": [],
   "source": [
    "def square_negatives_from_args(*args) -> list:\n",
    "    \"\"\"\n",
    "    >>> square_negatives_from_args(-3, -2, -1, 0, 1, 2, 3)\n",
    "    [9, 4, 1]\n",
    "    >>> square_negatives_from_args(-3, -2, -1, 0, 1, 2, 3, '4', '5')\n",
    "    [9, 4, 1]\n",
    "    >>> square_negatives_from_args(-3, -2, -1, False, True, 2, 3, '4', '5')\n",
    "    [9, 4, 1]\n",
    "    \"\"\"\n",
    "    ### BEGIN SOLUTION\n",
    "    \n",
    "    ### END SOLUTION"
   ]
  },
  {
   "cell_type": "markdown",
   "metadata": {},
   "source": [
    "## 02. Define a function named `filter_non_negatives_from_args()` which takes flexible inputs and returns non-negative ones in a list."
   ]
  },
  {
   "cell_type": "code",
   "execution_count": null,
   "metadata": {},
   "outputs": [],
   "source": [
    "def filter_non_negatives_from_args(*args) -> list:\n",
    "    \"\"\"\n",
    "    >>> filter_non_negatives_from_args(-3, -2, -1, 0, 1, 2, 3)\n",
    "    [0, 1, 2, 3]\n",
    "    >>> filter_non_negatives_from_args(-3, -2, -1, 0, 1, 2, 3, '4', '5')\n",
    "    [0, 1, 2, 3]\n",
    "    >>> filter_non_negatives_from_args(-3, -2, -1, False, True, 2, 3, '4', '5')\n",
    "    [False, True, 2, 3]\n",
    "    \"\"\"\n",
    "    ### BEGIN SOLUTION\n",
    "    \n",
    "    ### END SOLUTION"
   ]
  },
  {
   "cell_type": "markdown",
   "metadata": {},
   "source": [
    "## 03. Define a function named `uppercase_keys_from_kwargs()` which takes flexible key-value pairs and returns keys in uppercased."
   ]
  },
  {
   "cell_type": "code",
   "execution_count": null,
   "metadata": {},
   "outputs": [],
   "source": [
    "def uppercase_keys_from_kwargs(**kwargs) -> list:\n",
    "    \"\"\"\n",
    "    >>> uppercase_keys_from_kwargs(twn='Taiwan')\n",
    "    ['TWN']\n",
    "    >>> uppercase_keys_from_kwargs(twn='Taiwan', jpn='Japan')\n",
    "    ['TWN', 'JPN']\n",
    "    >>> uppercase_keys_from_kwargs(twn='Taiwan', jpn='Japan', ltu=\"Lithuania\")\n",
    "    ['TWN', 'JPN', 'LTU']\n",
    "    >>> uppercase_keys_from_kwargs(twn='Taiwan', jpn='Japan', ltu=\"Lithuania\", svn='Slovenia')\n",
    "    ['TWN', 'JPN', 'LTU', 'SVN']\n",
    "    \"\"\"\n",
    "    ### BEGIN SOLUTION\n",
    "    \n",
    "    ### END SOLUTION"
   ]
  },
  {
   "cell_type": "markdown",
   "metadata": {},
   "source": [
    "## 04. Define a function named `reverse_keys_values_from_kwargs()` which takes flexible key-value pairs and returns a `dict` with reversed key-value pairs."
   ]
  },
  {
   "cell_type": "code",
   "execution_count": null,
   "metadata": {},
   "outputs": [],
   "source": [
    "def reverse_keys_values_from_kwargs(**kwargs) -> list:\n",
    "    \"\"\"\n",
    "    >>> reverse_keys_values_from_kwargs(twn='Taiwan')\n",
    "    {'Taiwan': 'twn'}\n",
    "    >>> reverse_keys_values_from_kwargs(twn='Taiwan', jpn='Japan')\n",
    "    {'Taiwan': 'twn', 'Japan': 'jpn'}\n",
    "    >>> reverse_keys_values_from_kwargs(twn='Taiwan', jpn='Japan', ltu=\"Lithuania\")\n",
    "    {'Taiwan': 'twn', 'Japan': 'jpn', 'Lithuania': 'ltu'}\n",
    "    >>> reverse_keys_values_from_kwargs(twn='Taiwan', jpn='Japan', ltu=\"Lithuania\", svn='Slovenia')\n",
    "    {'Taiwan': 'twn', 'Japan': 'jpn', 'Lithuania': 'ltu', 'Slovenia': 'svn'}\n",
    "    \"\"\"\n",
    "    ### BEGIN SOLUTION\n",
    "    \n",
    "    ### END SOLUTION"
   ]
  },
  {
   "cell_type": "markdown",
   "metadata": {},
   "source": [
    "## 05. Define a function named `find_unique_vowels()` which returns the unique vowels found in a given string."
   ]
  },
  {
   "cell_type": "code",
   "execution_count": null,
   "metadata": {},
   "outputs": [],
   "source": [
    "def find_unique_vowels(x: str) -> set:\n",
    "    \"\"\"\n",
    "    >>> find_unique_vowels(\"Python\")\n",
    "    {'o'}\n",
    "    >>> find_unique_vowels(\"Anaconda\")\n",
    "    {'a', 'o'}\n",
    "    >>> find_unique_vowels(\"Programming and Data Analysis\")\n",
    "    {'a', 'i', 'o'}\n",
    "    >>> find_unique_vowels(\"National Taiwan University\")\n",
    "    {'a', 'e', 'i', 'o', 'u'}\n",
    "    >>> find_unique_vowels(\"Giannis Antetokounmpo\")\n",
    "    {'a', 'e', 'i', 'o', 'u'}\n",
    "    \"\"\"\n",
    "    ### BEGIN SOLUTION\n",
    "    \n",
    "    ### END SOLUTION"
   ]
  },
  {
   "cell_type": "markdown",
   "metadata": {},
   "source": [
    "## 06. Define a function named `count_number_of_each_vowel()` which counts the number of occurrence for each vowel in a given string."
   ]
  },
  {
   "cell_type": "code",
   "execution_count": null,
   "metadata": {},
   "outputs": [],
   "source": [
    "def count_number_of_each_vowel(x: str) -> dict:\n",
    "    \"\"\"\n",
    "    >>> count_number_of_each_vowel(\"Python\")\n",
    "    {'o': 1}\n",
    "    >>> count_number_of_each_vowel(\"Anaconda\")\n",
    "    {'a': 3, 'o': 1}\n",
    "    >>> count_number_of_each_vowel(\"Programming and Data Analysis\")\n",
    "    {'o': 1, 'a': 6, 'i': 2}\n",
    "    >>> count_number_of_each_vowel(\"National Taiwan University\")\n",
    "    {'a': 4, 'i': 4, 'o': 1, 'u': 1, 'e': 1}\n",
    "    >>> count_number_of_each_vowel(\"Giannis Antetokounmpo\")\n",
    "    {'i': 2, 'a': 2, 'e': 1, 'o': 3, 'u': 1}\n",
    "    \"\"\"\n",
    "    ### BEGIN SOLUTION\n",
    "    \n",
    "    ### END SOLUTION"
   ]
  },
  {
   "cell_type": "markdown",
   "metadata": {},
   "source": [
    "## 07. Define a function named `is_palindrome()` which reverses the input text and tells us whether it is a palindrome or not."
   ]
  },
  {
   "cell_type": "code",
   "execution_count": null,
   "metadata": {},
   "outputs": [],
   "source": [
    "def is_palindrome(x: str) -> tuple:\n",
    "    \"\"\"\n",
    "    >>> is_palindrome('eye')\n",
    "    ('eye', True)\n",
    "    >>> is_palindrome('dye')\n",
    "    ('eyd', False)\n",
    "    >>> is_palindrome('refer')\n",
    "    ('refer', True)\n",
    "    >>> is_palindrome('ravel')\n",
    "    ('levar', False)\n",
    "    \"\"\"\n",
    "    ## BEGIN SOLUTION\n",
    "    \n",
    "    ### END SOLUTION"
   ]
  },
  {
   "cell_type": "markdown",
   "metadata": {},
   "source": [
    "## 08. Define a function named `find_common_divisors()` which returns the common divisors given 2 integers."
   ]
  },
  {
   "cell_type": "code",
   "execution_count": null,
   "metadata": {},
   "outputs": [],
   "source": [
    "def find_common_divisors(x: int, y: int) -> set:\n",
    "    \"\"\"\n",
    "    >>> find_common_divisors(3, 5)\n",
    "    {1}\n",
    "    >>> find_common_divisors(2, 7)\n",
    "    {1}\n",
    "    >>> find_common_divisors(4, 8)\n",
    "    {1, 2, 4}\n",
    "    >>> find_common_divisors(18, 24)\n",
    "    {1, 2, 3, 6}\n",
    "    \"\"\"\n",
    "    ### BEGIN SOLUTION\n",
    "    \n",
    "    ### END SOLUTION"
   ]
  },
  {
   "cell_type": "markdown",
   "metadata": {},
   "source": [
    "## In the following exercises, you will need some files to complete the functions. Run the cell below to download those files at your working directory."
   ]
  },
  {
   "cell_type": "code",
   "execution_count": null,
   "metadata": {},
   "outputs": [],
   "source": [
    "file_url = \"https://raw.githubusercontent.com/datainpoint/asgmts-programming-and-data-analysis-ntu-2022/main/teams.json\"\n",
    "file_name = \"teams.json\"\n",
    "r = requests.get(file_url)\n",
    "with open(file_name , 'wb') as f:\n",
    "    f.write(r.content)"
   ]
  },
  {
   "cell_type": "markdown",
   "metadata": {},
   "source": [
    "## 09. Define a function named `extract_league_standard_list()` which loads `teams.json` in our working directory and returns the list under nested key `[\"league\"][\"standard\"]`.\n",
    "\n",
    "Source: <https://docs.python.org/3/library/json.html>"
   ]
  },
  {
   "cell_type": "code",
   "execution_count": null,
   "metadata": {},
   "outputs": [],
   "source": [
    "def extract_league_standard_list() -> list:\n",
    "    \"\"\"\n",
    "    >>> league_standard = extract_league_standard_list()\n",
    "    >>> type(league_standard)\n",
    "    list\n",
    "    >>> len(league_standard)\n",
    "    32\n",
    "    \"\"\"\n",
    "    ### BEGIN SOLUTION\n",
    "    \n",
    "    ### END SOLUTION"
   ]
  },
  {
   "cell_type": "markdown",
   "metadata": {},
   "source": [
    "## 10. Define a function named `find_full_name_via_tricode()` which utilizes the previous function to find the full name of teams in return of its triple code."
   ]
  },
  {
   "cell_type": "code",
   "execution_count": null,
   "metadata": {},
   "outputs": [],
   "source": [
    "def find_full_name_via_tricode(tricode: str) -> str:\n",
    "    \"\"\"\n",
    "    >>> find_full_name_via_tricode(\"BOS\")\n",
    "    'Boston Celtics'\n",
    "    >>> find_full_name_via_tricode(\"BKN\")\n",
    "    'Brooklyn Nets'\n",
    "    >>> find_full_name_via_tricode(\"GSW\")\n",
    "    'Golden State Warriors'\n",
    "    >>> find_full_name_via_tricode(\"LAC\")\n",
    "    'LA Clippers'\n",
    "    \"\"\"\n",
    "    ### BEGIN SOLUTION\n",
    "    \n",
    "    ### END SOLUTION"
   ]
  },
  {
   "cell_type": "markdown",
   "metadata": {},
   "source": [
    "## Running tests\n",
    "\n",
    "Assignment session is finished, click Runtime -> Restart and run all to run the following tests."
   ]
  },
  {
   "cell_type": "code",
   "execution_count": null,
   "metadata": {},
   "outputs": [],
   "source": [
    "class TestAssignmentThree(unittest.TestCase):\n",
    "    def test_01_square_negatives_from_args(self):\n",
    "        self.assertEqual(square_negatives_from_args(-3, -2, -1, 0, 1, 2, 3), [9, 4, 1])\n",
    "        self.assertEqual(square_negatives_from_args(-3, -2, -1, 0, 1, 2, 3, '4', '5'), [9, 4, 1])\n",
    "        self.assertEqual(square_negatives_from_args(-3, -2, -1, False, True, 2, 3, '4', '5'), [9, 4, 1])\n",
    "        self.assertEqual(square_negatives_from_args(-2, -1, 0), [4, 1])\n",
    "    def test_02_filter_non_negatives_from_args(self):\n",
    "        self.assertEqual(filter_non_negatives_from_args(-3, -2, -1, 0, 1, 2, 3), [0, 1, 2, 3])\n",
    "        self.assertEqual(filter_non_negatives_from_args(-3, -2, -1, 0, 1, 2, 3, '4', '5'), [0, 1, 2, 3])\n",
    "        self.assertEqual(filter_non_negatives_from_args(-3, -2, -1, False, True, 2, 3, '4', '5'), [False, True, 2, 3])\n",
    "    def test_03_uppercase_keys_from_kwargs(self):\n",
    "        self.assertEqual(uppercase_keys_from_kwargs(twn='Taiwan'), ['TWN'])\n",
    "        self.assertEqual(uppercase_keys_from_kwargs(twn='Taiwan', jpn='Japan'), ['TWN', 'JPN'])\n",
    "        self.assertEqual(uppercase_keys_from_kwargs(twn='Taiwan', jpn='Japan', ltu=\"Lithuania\"), ['TWN', 'JPN', 'LTU'])\n",
    "        self.assertEqual(uppercase_keys_from_kwargs(twn='Taiwan', jpn='Japan', ltu=\"Lithuania\", svn='Slovenia'), ['TWN', 'JPN', 'LTU', 'SVN'])\n",
    "        self.assertEqual(uppercase_keys_from_kwargs(usa='United States'), ['USA'])\n",
    "    def test_04_reverse_keys_values_from_kwargs(self):\n",
    "        ans = reverse_keys_values_from_kwargs(twn='Taiwan')\n",
    "        self.assertEqual(ans, {'Taiwan': 'twn'})\n",
    "        ans = reverse_keys_values_from_kwargs(twn='Taiwan', jpn='Japan')\n",
    "        self.assertEqual(ans, {'Taiwan': 'twn', 'Japan': 'jpn'})\n",
    "        ans = reverse_keys_values_from_kwargs(twn='Taiwan', jpn='Japan', ltu=\"Lithuania\")\n",
    "        self.assertEqual(ans, {'Taiwan': 'twn', 'Japan': 'jpn', 'Lithuania': 'ltu'})\n",
    "        ans = reverse_keys_values_from_kwargs(twn='Taiwan', jpn='Japan', ltu=\"Lithuania\", svn='Slovenia')\n",
    "        self.assertEqual(ans, {'Taiwan': 'twn', 'Japan': 'jpn', 'Lithuania': 'ltu', 'Slovenia': 'svn'})\n",
    "    def test_05_find_unique_vowels(self):\n",
    "        self.assertEqual(find_unique_vowels(\"Python\"), {'o'})\n",
    "        self.assertEqual(find_unique_vowels(\"Anaconda\"), {'a', 'o'})\n",
    "        self.assertEqual(find_unique_vowels(\"Programming and Data Analysis\"), {'a', 'i', 'o'})\n",
    "        self.assertEqual(find_unique_vowels(\"National Taiwan University\"), {'a', 'e', 'i', 'o', 'u'})\n",
    "        self.assertEqual(find_unique_vowels(\"Giannis Antetokounmpo\"), {'a', 'e', 'i', 'o', 'u'})\n",
    "    def test_06_count_number_of_each_vowel(self):\n",
    "        self.assertEqual(count_number_of_each_vowel(\"Python\"), {'o': 1})\n",
    "        self.assertEqual(count_number_of_each_vowel(\"Anaconda\"), {'a': 3, 'o': 1})\n",
    "        self.assertEqual(count_number_of_each_vowel(\"Programming and Data Analysis\"), {'o': 1, 'a': 6, 'i': 2})\n",
    "        self.assertEqual(count_number_of_each_vowel(\"National Taiwan University\"), {'a': 4, 'i': 4, 'o': 1, 'u': 1, 'e': 1})\n",
    "        self.assertEqual(count_number_of_each_vowel(\"Giannis Antetokounmpo\"), {'i': 2, 'a': 2, 'e': 1, 'o': 3, 'u': 1})\n",
    "    def test_07_is_palindrome(self):\n",
    "        self.assertEqual(is_palindrome('eye'), ('eye', True))\n",
    "        self.assertEqual(is_palindrome('dye'), ('eyd', False))\n",
    "        self.assertEqual(is_palindrome('refer'), ('refer', True))\n",
    "        self.assertEqual(is_palindrome('ravel'), ('levar', False))\n",
    "        self.assertEqual(is_palindrome('anna'), ('anna', True))\n",
    "        self.assertEqual(is_palindrome('kayak'), ('kayak', True))\n",
    "    def test_08_find_common_divisors(self):\n",
    "        self.assertEqual(find_common_divisors(3, 5), {1})\n",
    "        self.assertEqual(find_common_divisors(2, 7), {1})\n",
    "        self.assertEqual(find_common_divisors(4, 8), {1, 2, 4})\n",
    "        self.assertEqual(find_common_divisors(18, 24), {1, 2, 3, 6})\n",
    "    def test_09_extract_league_standard_list(self):\n",
    "        league_standard = extract_league_standard_list()\n",
    "        self.assertIsInstance(league_standard, list)\n",
    "        self.assertEqual(len(league_standard), 32)\n",
    "    def test_10_find_full_name_via_tricode(self):\n",
    "        self.assertEqual(find_full_name_via_tricode('BKN'), 'Brooklyn Nets')\n",
    "        self.assertEqual(find_full_name_via_tricode('SAS'), 'San Antonio Spurs')\n",
    "        self.assertEqual(find_full_name_via_tricode('BOS'), 'Boston Celtics')\n",
    "        self.assertEqual(find_full_name_via_tricode('GSW'), 'Golden State Warriors')\n",
    "        self.assertEqual(find_full_name_via_tricode('LAC'), 'LA Clippers')\n",
    "        self.assertEqual(find_full_name_via_tricode('LAL'), 'Los Angeles Lakers')\n",
    "    \n",
    "suite = unittest.TestLoader().loadTestsFromTestCase(TestAssignmentThree)\n",
    "runner = unittest.TextTestRunner(verbosity=2)\n",
    "test_results = runner.run(suite)\n",
    "number_of_failures = len(test_results.failures)\n",
    "number_of_errors = len(test_results.errors)\n",
    "number_of_test_runs = test_results.testsRun\n",
    "number_of_successes = number_of_test_runs - (number_of_failures + number_of_errors)"
   ]
  },
  {
   "cell_type": "code",
   "execution_count": null,
   "metadata": {},
   "outputs": [],
   "source": [
    "print(\"You've got {} successes among {} questions.\".format(number_of_successes, number_of_test_runs))"
   ]
  }
 ],
 "metadata": {
  "kernelspec": {
   "display_name": "Python 3 (ipykernel)",
   "language": "python",
   "name": "python3"
  },
  "language_info": {
   "codemirror_mode": {
    "name": "ipython",
    "version": 3
   },
   "file_extension": ".py",
   "mimetype": "text/x-python",
   "name": "python",
   "nbconvert_exporter": "python",
   "pygments_lexer": "ipython3",
   "version": "3.9.12"
  }
 },
 "nbformat": 4,
 "nbformat_minor": 4
}
